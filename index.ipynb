{
 "cells": [
  {
   "cell_type": "markdown",
   "metadata": {},
   "source": [
    "# Yelp API - Lab\n",
    "\n",
    "The previously deployed lab on working around building a GIS with Yelp API and Folium can be found [here](https://github.com/learn-co-curriculum/dsc-2-15-10-yelp-api-gis-lab/tree/a56358c2d0c2daf569a5f50937c4c27463aadb1a) (not relevant for new students).\n",
    "\n",
    "\n",
    "## Introduction \n",
    "\n",
    "Now that we've seen how the Yelp API works, and some basic Folium visualizations its time to put those skills to work in order to create a working map! Taking things a step further, you'll also independently explore how to perform pagination in order to retrieve a full results set from the Yelp API!\n",
    "\n",
    "## Objectives\n",
    "\n",
    "You will be able to: \n",
    "* Create HTTP requests to get data from Yelp API\n",
    "* Parse HTTP responses and perform data analysis on the data returned\n",
    "* Perform pagination to retrieve troves of data!\n",
    "* Create a simple geographical system on to view information about selected businesses, at a given location. "
   ]
  },
  {
   "cell_type": "markdown",
   "metadata": {},
   "source": [
    "## Problem Introduction\n",
    "\n",
    "You've now worked with some API calls, but we have yet to see how to retrieve a more complete dataset in a programmatic manner. Returning to the Yelp API, the [documentation](https://www.yelp.com/developers/documentation/v3/business_search) also provides us details regarding the API limits. These often include details about the number of requests a user is allowed to make within a specified time limit and the maximum number of results to be returned. In this case, we are told that any request has a maximum of 50 results per request and defaults to 20. Furthermore, any search will be limited to a total of 1000 results. To retrieve all 1000 of these results, we would have to page through the results piece by piece, retriving 50 at a time. Processes such as these are often refered to as pagination.\n",
    "\n",
    "In this lab, you will define a search and then paginate over the results to retrieve all of the results. You'll then parse these responses as a DataFrame (for further exploration) and create a map using Folium to visualize the results geographically."
   ]
  },
  {
   "cell_type": "markdown",
   "metadata": {},
   "source": [
    "## Part I - Make the Initial Request\n",
    "\n",
    "Start by making an initial request to the Yelp API. Your search must include at least 2 parameters: **term** and **location**. For example, you might search for pizza restaurants in NYC. The term and location is up to you, but make the request below."
   ]
  },
  {
   "cell_type": "code",
   "execution_count": 1,
   "metadata": {},
   "outputs": [],
   "source": [
    "import requests\n",
    "import pandas as pd\n",
    "import numpy as np"
   ]
  },
  {
   "cell_type": "code",
   "execution_count": 2,
   "metadata": {},
   "outputs": [],
   "source": [
    "client_id ='GbRlprkRRJC7wZGTlPFPhQ' #Your client ID goes here (as a string)\n",
    "api_key = 'RfJ62qbFZ6_GrbBxPwlkQUibYUm4g8bme8ynFhTAdz88pjNOGTsaM3LQWWqD8T2iHrSqb4BLZhQ8ClHcHA9XsXfKkc6K-n8YTaIxHEthi_dxCFD0vr4hB7WATpGSXHYx'\n"
   ]
  },
  {
   "cell_type": "code",
   "execution_count": 3,
   "metadata": {},
   "outputs": [
    {
     "name": "stdout",
     "output_type": "stream",
     "text": [
      "<Response [200]>\n",
      "<class 'str'>\n",
      "{\"businesses\": [{\"id\": \"sCC7-hSdCkNPExejZT9BAQ\", \"alias\": \"the-masalawala-new-york-2\", \"name\": \"The MasalaWala\", \"image_url\": \"https://s3-media4.fl.yelpcdn.com/bphoto/4fxSLoYtYtP-lDIRQZ-LJw/o.jpg\", \"is_closed\": false, \"url\": \"https://www.yelp.com/biz/the-masalawala-new-york-2?adjust_creative=GbRlprkRRJC7wZGTlPFPhQ&utm_campaign=yelp_api_v3&utm_medium=api_v3_business_search&utm_source=GbRlprkRRJC7wZGTlPFPhQ\", \"review_count\": 1322, \"categories\": [{\"alias\": \"indpak\", \"title\": \"Indian\"}, {\"alias\": \"pakistani\", \"title\": \"Pakistani\"}], \"rating\": 4.5, \"coordinates\": {\"latitude\": 40.72191, \"longitude\": -73.98666}, \"transactions\": [\"pickup\", \"restaurant_reservation\", \"delivery\"], \"price\": \"$$\", \"location\": {\"address1\": \"179 Essex St\", \"address2\": \"\", \"address3\": \"\", \"city\": \"New York\", \"zip_code\": \"10002\", \"country\": \"US\", \"state\": \"NY\", \"display_address\": [\"179 Essex St\", \"New York, NY 10002\"]}, \"phone\": \"+12123589300\", \"display_phone\": \"(212) 358-9300\", \"distance\": 1941.6907576360677}, {\"id\": \n"
     ]
    }
   ],
   "source": [
    "#Your code here\n",
    "term = 'Indian'\n",
    "location = 'New York'\n",
    "SEARCH_LIMIT = 50\n",
    "offset=0\n",
    "\n",
    "url = 'https://api.yelp.com/v3/businesses/search'\n",
    "\n",
    "headers = {\n",
    "        'Authorization': 'Bearer {}'.format(api_key),\n",
    "    }\n",
    "\n",
    "url_params = {\n",
    "                'term': term.replace(' ', '+'),\n",
    "                'location': location.replace(' ', '+'),\n",
    "                'limit': SEARCH_LIMIT,\n",
    "                'offset': offset\n",
    "            }\n",
    "response = requests.get(url, headers=headers, params=url_params)\n",
    "print(response)\n",
    "print(type(response.text))\n",
    "print(response.text[:1000])"
   ]
  },
  {
   "cell_type": "markdown",
   "metadata": {},
   "source": [
    "## Pagination\n",
    "\n",
    "Now that you have an initial response, you can examine the contents of the json container. For example, you might start with ```response.josn().keys()```. Here, you'll see a key for `'total'`, which tells you the full number of matching results given your query parameters. Write a loop (or ideally a function) which then makes successive API calls using the offset parameter to retrieve all of the results (or 5000 for a particularly large result set) for the original query. As you do this, be mindful of how you store the data. Your final goal will be to reformat the data concerning the businesses themselves into a pandas DataFrame from the json objects.\n",
    "\n",
    "**Note: be mindful of the API rate limits. You can only make 5000 requests per day, and are also can make requests too fast. Start prototyping small before running a loop that could be faulty. You can also use time.sleep(n) to add delays. For more details see https://www.yelp.com/developers/documentation/v3/rate_limiting.**"
   ]
  },
  {
   "cell_type": "code",
   "execution_count": 6,
   "metadata": {},
   "outputs": [],
   "source": [
    "# Your code here; use a function or loop to retrieve all the results from your original request"
   ]
  },
  {
   "cell_type": "code",
   "execution_count": null,
   "metadata": {},
   "outputs": [],
   "source": []
  },
  {
   "cell_type": "code",
   "execution_count": null,
   "metadata": {},
   "outputs": [],
   "source": []
  },
  {
   "cell_type": "code",
   "execution_count": 7,
   "metadata": {},
   "outputs": [],
   "source": [
    "def make_yelp_df(url,headers, url_params, num_pages):\n",
    "    response= requests.get(url, headers=headers, params=url_params)\n",
    "    df=pd.DataFrame(response.json()['businesses'])\n",
    "    for i in range(1,num_pages):\n",
    "        url_params['offset']+=50\n",
    "        response= requests.get(url, headers=headers, params=url_params)\n",
    "        df1=pd.DataFrame(response.json()['businesses'])\n",
    "        df=pd.concat([df,df1])\n",
    "    return df\n",
    "        "
   ]
  },
  {
   "cell_type": "code",
   "execution_count": 8,
   "metadata": {},
   "outputs": [],
   "source": [
    "response= requests.get(url, headers=headers, params=url_params)"
   ]
  },
  {
   "cell_type": "code",
   "execution_count": 9,
   "metadata": {},
   "outputs": [],
   "source": [
    "df=pd.DataFrame(response.json()['businesses'])"
   ]
  },
  {
   "cell_type": "code",
   "execution_count": 10,
   "metadata": {},
   "outputs": [],
   "source": [
    "df=make_yelp_df(url, headers, url_params, 20)"
   ]
  },
  {
   "cell_type": "code",
   "execution_count": 11,
   "metadata": {},
   "outputs": [
    {
     "data": {
      "text/plain": [
       "1000"
      ]
     },
     "execution_count": 11,
     "metadata": {},
     "output_type": "execute_result"
    }
   ],
   "source": [
    "len(df)"
   ]
  },
  {
   "cell_type": "code",
   "execution_count": 12,
   "metadata": {},
   "outputs": [],
   "source": [
    "df['numprice']=df['price'].map(lambda x: len(str(x)))"
   ]
  },
  {
   "cell_type": "markdown",
   "metadata": {},
   "source": [
    "## Exploratory Analysis\n",
    "\n",
    "Take the restaurants from the previous question and do an intial exploratory analysis. At minimum, this should include looking at the distribution of features such as price, rating and number of reviews as well as the relations between these dimensions."
   ]
  },
  {
   "cell_type": "code",
   "execution_count": 56,
   "metadata": {},
   "outputs": [],
   "source": [
    "dfh=df[df.rating>4]"
   ]
  },
  {
   "cell_type": "code",
   "execution_count": 24,
   "metadata": {},
   "outputs": [],
   "source": [
    "def corr(a,b, wcol=1):\n",
    "    am= a.mean()\n",
    "    bm=b.mean()\n",
    "    \n",
    "    Sxx= sum(wcol*wcol* (a-am)**2)\n",
    "    Syy= sum(wcol*wcol * (b-bm)**2)\n",
    "    Sxy= sum(wcol*wcol * (a-am)*(b-bm))\n",
    "        \n",
    "    return Sxy/(Sxx*Syy)**.5"
   ]
  },
  {
   "cell_type": "code",
   "execution_count": 25,
   "metadata": {},
   "outputs": [
    {
     "data": {
      "text/plain": [
       "['alias',\n",
       " 'categories',\n",
       " 'coordinates',\n",
       " 'display_phone',\n",
       " 'distance',\n",
       " 'id',\n",
       " 'image_url',\n",
       " 'is_closed',\n",
       " 'location',\n",
       " 'name',\n",
       " 'phone',\n",
       " 'price',\n",
       " 'rating',\n",
       " 'review_count',\n",
       " 'transactions',\n",
       " 'url',\n",
       " 'numprice']"
      ]
     },
     "execution_count": 25,
     "metadata": {},
     "output_type": "execute_result"
    }
   ],
   "source": [
    "list(df.columns)"
   ]
  },
  {
   "cell_type": "code",
   "execution_count": 57,
   "metadata": {},
   "outputs": [],
   "source": [
    "corrs=[]\n",
    "bh=dfh\n",
    "cols=['rating', 'review_count', 'numprice']\n",
    "\n",
    "for i in range (len(cols)):\n",
    "    for j in range(i):\n",
    "           corrs.append([cols[i], cols[j], wcorr(bh[cols[i]], bh[cols[j]], np.array(bh['review_count'])**1)]) \n",
    "\n",
    "\n"
   ]
  },
  {
   "cell_type": "code",
   "execution_count": 58,
   "metadata": {
    "scrolled": true
   },
   "outputs": [
    {
     "data": {
      "text/plain": [
       "[['review_count', 'rating', -0.7768167924839339],\n",
       " ['numprice', 'rating', 0.3734260140680298],\n",
       " ['numprice', 'review_count', -0.330287713885725]]"
      ]
     },
     "execution_count": 58,
     "metadata": {},
     "output_type": "execute_result"
    }
   ],
   "source": [
    "corrs"
   ]
  },
  {
   "cell_type": "code",
   "execution_count": 121,
   "metadata": {},
   "outputs": [
    {
     "data": {
      "text/html": [
       "<div>\n",
       "<style scoped>\n",
       "    .dataframe tbody tr th:only-of-type {\n",
       "        vertical-align: middle;\n",
       "    }\n",
       "\n",
       "    .dataframe tbody tr th {\n",
       "        vertical-align: top;\n",
       "    }\n",
       "\n",
       "    .dataframe thead th {\n",
       "        text-align: right;\n",
       "    }\n",
       "</style>\n",
       "<table border=\"1\" class=\"dataframe\">\n",
       "  <thead>\n",
       "    <tr style=\"text-align: right;\">\n",
       "      <th></th>\n",
       "      <th>alias</th>\n",
       "      <th>categories</th>\n",
       "      <th>coordinates</th>\n",
       "      <th>display_phone</th>\n",
       "      <th>distance</th>\n",
       "      <th>id</th>\n",
       "      <th>image_url</th>\n",
       "      <th>is_closed</th>\n",
       "      <th>location</th>\n",
       "      <th>name</th>\n",
       "      <th>phone</th>\n",
       "      <th>price</th>\n",
       "      <th>rating</th>\n",
       "      <th>review_count</th>\n",
       "      <th>transactions</th>\n",
       "      <th>url</th>\n",
       "      <th>numprice</th>\n",
       "    </tr>\n",
       "  </thead>\n",
       "  <tbody>\n",
       "    <tr>\n",
       "      <th>0</th>\n",
       "      <td>the-masalawala-new-york-2</td>\n",
       "      <td>[{'alias': 'indpak', 'title': 'Indian'}, {'ali...</td>\n",
       "      <td>{'latitude': 40.72191, 'longitude': -73.98666}</td>\n",
       "      <td>(212) 358-9300</td>\n",
       "      <td>1941.690758</td>\n",
       "      <td>sCC7-hSdCkNPExejZT9BAQ</td>\n",
       "      <td>https://s3-media4.fl.yelpcdn.com/bphoto/4fxSLo...</td>\n",
       "      <td>False</td>\n",
       "      <td>{'address1': '179 Essex St', 'address2': '', '...</td>\n",
       "      <td>The MasalaWala</td>\n",
       "      <td>+12123589300</td>\n",
       "      <td>$$</td>\n",
       "      <td>4.5</td>\n",
       "      <td>1322</td>\n",
       "      <td>[pickup, delivery, restaurant_reservation]</td>\n",
       "      <td>https://www.yelp.com/biz/the-masalawala-new-yo...</td>\n",
       "      <td>2</td>\n",
       "    </tr>\n",
       "    <tr>\n",
       "      <th>1</th>\n",
       "      <td>bengal-tiger-indian-food-new-york</td>\n",
       "      <td>[{'alias': 'indpak', 'title': 'Indian'}]</td>\n",
       "      <td>{'latitude': 40.763167, 'longitude': -73.977131}</td>\n",
       "      <td>(212) 265-2703</td>\n",
       "      <td>6579.278643</td>\n",
       "      <td>x0k5kFArHLijdY8-NEQ7Xg</td>\n",
       "      <td>https://s3-media1.fl.yelpcdn.com/bphoto/skrQkD...</td>\n",
       "      <td>False</td>\n",
       "      <td>{'address1': '58 W 56th St', 'address2': 'Fl 2...</td>\n",
       "      <td>Bengal Tiger Indian Food</td>\n",
       "      <td>+12122652703</td>\n",
       "      <td>$$</td>\n",
       "      <td>4.5</td>\n",
       "      <td>1470</td>\n",
       "      <td>[pickup, delivery]</td>\n",
       "      <td>https://www.yelp.com/biz/bengal-tiger-indian-f...</td>\n",
       "      <td>2</td>\n",
       "    </tr>\n",
       "    <tr>\n",
       "      <th>2</th>\n",
       "      <td>tikka-indian-grill-brooklyn-4</td>\n",
       "      <td>[{'alias': 'indpak', 'title': 'Indian'}, {'ali...</td>\n",
       "      <td>{'latitude': 40.71441, 'longitude': -73.96078}</td>\n",
       "      <td>(718) 768-2262</td>\n",
       "      <td>2998.452269</td>\n",
       "      <td>WWpOWqOgS9ClYvxYVzR0lg</td>\n",
       "      <td>https://s3-media3.fl.yelpcdn.com/bphoto/jZdiyq...</td>\n",
       "      <td>False</td>\n",
       "      <td>{'address1': '185 Grand St', 'address2': '', '...</td>\n",
       "      <td>Tikka Indian Grill</td>\n",
       "      <td>+17187682262</td>\n",
       "      <td>$$</td>\n",
       "      <td>4.5</td>\n",
       "      <td>274</td>\n",
       "      <td>[pickup, delivery]</td>\n",
       "      <td>https://www.yelp.com/biz/tikka-indian-grill-br...</td>\n",
       "      <td>2</td>\n",
       "    </tr>\n",
       "    <tr>\n",
       "      <th>3</th>\n",
       "      <td>seva-indian-cuisine-astoria-5</td>\n",
       "      <td>[{'alias': 'indpak', 'title': 'Indian'}]</td>\n",
       "      <td>{'latitude': 40.7653633, 'longitude': -73.9191...</td>\n",
       "      <td>(718) 626-4440</td>\n",
       "      <td>9206.478614</td>\n",
       "      <td>lxNU-aBq0yPwBDx-i89ahA</td>\n",
       "      <td>https://s3-media4.fl.yelpcdn.com/bphoto/MsQyig...</td>\n",
       "      <td>False</td>\n",
       "      <td>{'address1': '3007 34th St', 'address2': '', '...</td>\n",
       "      <td>Seva Indian Cuisine</td>\n",
       "      <td>+17186264440</td>\n",
       "      <td>$$</td>\n",
       "      <td>4.5</td>\n",
       "      <td>1114</td>\n",
       "      <td>[pickup, delivery]</td>\n",
       "      <td>https://www.yelp.com/biz/seva-indian-cuisine-a...</td>\n",
       "      <td>2</td>\n",
       "    </tr>\n",
       "    <tr>\n",
       "      <th>4</th>\n",
       "      <td>mughlai-indian-cuisine-new-york-4</td>\n",
       "      <td>[{'alias': 'indpak', 'title': 'Indian'}]</td>\n",
       "      <td>{'latitude': 40.78002, 'longitude': -73.94978}</td>\n",
       "      <td>(212) 722-6262</td>\n",
       "      <td>9100.989031</td>\n",
       "      <td>izRJeBfDQYJmd6ibIQ6Mfg</td>\n",
       "      <td>https://s3-media2.fl.yelpcdn.com/bphoto/DNsKer...</td>\n",
       "      <td>False</td>\n",
       "      <td>{'address1': '1724 2nd Ave', 'address2': '', '...</td>\n",
       "      <td>Mughlai Indian Cuisine</td>\n",
       "      <td>+12127226262</td>\n",
       "      <td>$$</td>\n",
       "      <td>4.5</td>\n",
       "      <td>385</td>\n",
       "      <td>[pickup, delivery]</td>\n",
       "      <td>https://www.yelp.com/biz/mughlai-indian-cuisin...</td>\n",
       "      <td>2</td>\n",
       "    </tr>\n",
       "  </tbody>\n",
       "</table>\n",
       "</div>"
      ],
      "text/plain": [
       "                               alias  \\\n",
       "0          the-masalawala-new-york-2   \n",
       "1  bengal-tiger-indian-food-new-york   \n",
       "2      tikka-indian-grill-brooklyn-4   \n",
       "3      seva-indian-cuisine-astoria-5   \n",
       "4  mughlai-indian-cuisine-new-york-4   \n",
       "\n",
       "                                          categories  \\\n",
       "0  [{'alias': 'indpak', 'title': 'Indian'}, {'ali...   \n",
       "1           [{'alias': 'indpak', 'title': 'Indian'}]   \n",
       "2  [{'alias': 'indpak', 'title': 'Indian'}, {'ali...   \n",
       "3           [{'alias': 'indpak', 'title': 'Indian'}]   \n",
       "4           [{'alias': 'indpak', 'title': 'Indian'}]   \n",
       "\n",
       "                                         coordinates   display_phone  \\\n",
       "0     {'latitude': 40.72191, 'longitude': -73.98666}  (212) 358-9300   \n",
       "1   {'latitude': 40.763167, 'longitude': -73.977131}  (212) 265-2703   \n",
       "2     {'latitude': 40.71441, 'longitude': -73.96078}  (718) 768-2262   \n",
       "3  {'latitude': 40.7653633, 'longitude': -73.9191...  (718) 626-4440   \n",
       "4     {'latitude': 40.78002, 'longitude': -73.94978}  (212) 722-6262   \n",
       "\n",
       "      distance                      id  \\\n",
       "0  1941.690758  sCC7-hSdCkNPExejZT9BAQ   \n",
       "1  6579.278643  x0k5kFArHLijdY8-NEQ7Xg   \n",
       "2  2998.452269  WWpOWqOgS9ClYvxYVzR0lg   \n",
       "3  9206.478614  lxNU-aBq0yPwBDx-i89ahA   \n",
       "4  9100.989031  izRJeBfDQYJmd6ibIQ6Mfg   \n",
       "\n",
       "                                           image_url  is_closed  \\\n",
       "0  https://s3-media4.fl.yelpcdn.com/bphoto/4fxSLo...      False   \n",
       "1  https://s3-media1.fl.yelpcdn.com/bphoto/skrQkD...      False   \n",
       "2  https://s3-media3.fl.yelpcdn.com/bphoto/jZdiyq...      False   \n",
       "3  https://s3-media4.fl.yelpcdn.com/bphoto/MsQyig...      False   \n",
       "4  https://s3-media2.fl.yelpcdn.com/bphoto/DNsKer...      False   \n",
       "\n",
       "                                            location  \\\n",
       "0  {'address1': '179 Essex St', 'address2': '', '...   \n",
       "1  {'address1': '58 W 56th St', 'address2': 'Fl 2...   \n",
       "2  {'address1': '185 Grand St', 'address2': '', '...   \n",
       "3  {'address1': '3007 34th St', 'address2': '', '...   \n",
       "4  {'address1': '1724 2nd Ave', 'address2': '', '...   \n",
       "\n",
       "                       name         phone price  rating  review_count  \\\n",
       "0            The MasalaWala  +12123589300    $$     4.5          1322   \n",
       "1  Bengal Tiger Indian Food  +12122652703    $$     4.5          1470   \n",
       "2        Tikka Indian Grill  +17187682262    $$     4.5           274   \n",
       "3       Seva Indian Cuisine  +17186264440    $$     4.5          1114   \n",
       "4    Mughlai Indian Cuisine  +12127226262    $$     4.5           385   \n",
       "\n",
       "                                 transactions  \\\n",
       "0  [pickup, delivery, restaurant_reservation]   \n",
       "1                          [pickup, delivery]   \n",
       "2                          [pickup, delivery]   \n",
       "3                          [pickup, delivery]   \n",
       "4                          [pickup, delivery]   \n",
       "\n",
       "                                                 url  numprice  \n",
       "0  https://www.yelp.com/biz/the-masalawala-new-yo...         2  \n",
       "1  https://www.yelp.com/biz/bengal-tiger-indian-f...         2  \n",
       "2  https://www.yelp.com/biz/tikka-indian-grill-br...         2  \n",
       "3  https://www.yelp.com/biz/seva-indian-cuisine-a...         2  \n",
       "4  https://www.yelp.com/biz/mughlai-indian-cuisin...         2  "
      ]
     },
     "execution_count": 121,
     "metadata": {},
     "output_type": "execute_result"
    }
   ],
   "source": [
    "df.head()"
   ]
  },
  {
   "cell_type": "code",
   "execution_count": 126,
   "metadata": {},
   "outputs": [
    {
     "data": {
      "text/html": [
       "<div style=\"width:100%;\"><div style=\"position:relative;width:100%;height:0;padding-bottom:60%;\"><iframe src=\"data:text/html;charset=utf-8;base64,PCFET0NUWVBFIGh0bWw+CjxoZWFkPiAgICAKICAgIDxtZXRhIGh0dHAtZXF1aXY9ImNvbnRlbnQtdHlwZSIgY29udGVudD0idGV4dC9odG1sOyBjaGFyc2V0PVVURi04IiAvPgogICAgPHNjcmlwdD5MX1BSRUZFUl9DQU5WQVM9ZmFsc2U7IExfTk9fVE9VQ0g9ZmFsc2U7IExfRElTQUJMRV8zRD1mYWxzZTs8L3NjcmlwdD4KICAgIDxzY3JpcHQgc3JjPSJodHRwczovL2Nkbi5qc2RlbGl2ci5uZXQvbnBtL2xlYWZsZXRAMS40LjAvZGlzdC9sZWFmbGV0LmpzIj48L3NjcmlwdD4KICAgIDxzY3JpcHQgc3JjPSJodHRwczovL2FqYXguZ29vZ2xlYXBpcy5jb20vYWpheC9saWJzL2pxdWVyeS8xLjExLjEvanF1ZXJ5Lm1pbi5qcyI+PC9zY3JpcHQ+CiAgICA8c2NyaXB0IHNyYz0iaHR0cHM6Ly9tYXhjZG4uYm9vdHN0cmFwY2RuLmNvbS9ib290c3RyYXAvMy4yLjAvanMvYm9vdHN0cmFwLm1pbi5qcyI+PC9zY3JpcHQ+CiAgICA8c2NyaXB0IHNyYz0iaHR0cHM6Ly9jZG5qcy5jbG91ZGZsYXJlLmNvbS9hamF4L2xpYnMvTGVhZmxldC5hd2Vzb21lLW1hcmtlcnMvMi4wLjIvbGVhZmxldC5hd2Vzb21lLW1hcmtlcnMuanMiPjwvc2NyaXB0PgogICAgPGxpbmsgcmVsPSJzdHlsZXNoZWV0IiBocmVmPSJodHRwczovL2Nkbi5qc2RlbGl2ci5uZXQvbnBtL2xlYWZsZXRAMS40LjAvZGlzdC9sZWFmbGV0LmNzcyIvPgogICAgPGxpbmsgcmVsPSJzdHlsZXNoZWV0IiBocmVmPSJodHRwczovL21heGNkbi5ib290c3RyYXBjZG4uY29tL2Jvb3RzdHJhcC8zLjIuMC9jc3MvYm9vdHN0cmFwLm1pbi5jc3MiLz4KICAgIDxsaW5rIHJlbD0ic3R5bGVzaGVldCIgaHJlZj0iaHR0cHM6Ly9tYXhjZG4uYm9vdHN0cmFwY2RuLmNvbS9ib290c3RyYXAvMy4yLjAvY3NzL2Jvb3RzdHJhcC10aGVtZS5taW4uY3NzIi8+CiAgICA8bGluayByZWw9InN0eWxlc2hlZXQiIGhyZWY9Imh0dHBzOi8vbWF4Y2RuLmJvb3RzdHJhcGNkbi5jb20vZm9udC1hd2Vzb21lLzQuNi4zL2Nzcy9mb250LWF3ZXNvbWUubWluLmNzcyIvPgogICAgPGxpbmsgcmVsPSJzdHlsZXNoZWV0IiBocmVmPSJodHRwczovL2NkbmpzLmNsb3VkZmxhcmUuY29tL2FqYXgvbGlicy9MZWFmbGV0LmF3ZXNvbWUtbWFya2Vycy8yLjAuMi9sZWFmbGV0LmF3ZXNvbWUtbWFya2Vycy5jc3MiLz4KICAgIDxsaW5rIHJlbD0ic3R5bGVzaGVldCIgaHJlZj0iaHR0cHM6Ly9yYXdjZG4uZ2l0aGFjay5jb20vcHl0aG9uLXZpc3VhbGl6YXRpb24vZm9saXVtL21hc3Rlci9mb2xpdW0vdGVtcGxhdGVzL2xlYWZsZXQuYXdlc29tZS5yb3RhdGUuY3NzIi8+CiAgICA8c3R5bGU+aHRtbCwgYm9keSB7d2lkdGg6IDEwMCU7aGVpZ2h0OiAxMDAlO21hcmdpbjogMDtwYWRkaW5nOiAwO308L3N0eWxlPgogICAgPHN0eWxlPiNtYXAge3Bvc2l0aW9uOmFic29sdXRlO3RvcDowO2JvdHRvbTowO3JpZ2h0OjA7bGVmdDowO308L3N0eWxlPgogICAgCiAgICA8bWV0YSBuYW1lPSJ2aWV3cG9ydCIgY29udGVudD0id2lkdGg9ZGV2aWNlLXdpZHRoLAogICAgICAgIGluaXRpYWwtc2NhbGU9MS4wLCBtYXhpbXVtLXNjYWxlPTEuMCwgdXNlci1zY2FsYWJsZT1ubyIgLz4KICAgIDxzdHlsZT4jbWFwX2I3OTY0MzRlMDE3YjQ0NWE4OWQ5NTI0NjkwODU3M2Y5IHsKICAgICAgICBwb3NpdGlvbjogcmVsYXRpdmU7CiAgICAgICAgd2lkdGg6IDEwMC4wJTsKICAgICAgICBoZWlnaHQ6IDEwMC4wJTsKICAgICAgICBsZWZ0OiAwLjAlOwogICAgICAgIHRvcDogMC4wJTsKICAgICAgICB9CiAgICA8L3N0eWxlPgo8L2hlYWQ+Cjxib2R5PiAgICAKICAgIAogICAgPGRpdiBjbGFzcz0iZm9saXVtLW1hcCIgaWQ9Im1hcF9iNzk2NDM0ZTAxN2I0NDVhODlkOTUyNDY5MDg1NzNmOSIgPjwvZGl2Pgo8L2JvZHk+CjxzY3JpcHQ+ICAgIAogICAgCiAgICAKICAgICAgICB2YXIgYm91bmRzID0gbnVsbDsKICAgIAoKICAgIHZhciBtYXBfYjc5NjQzNGUwMTdiNDQ1YTg5ZDk1MjQ2OTA4NTczZjkgPSBMLm1hcCgKICAgICAgICAnbWFwX2I3OTY0MzRlMDE3YjQ0NWE4OWQ5NTI0NjkwODU3M2Y5JywgewogICAgICAgIGNlbnRlcjogWzQwLjcsIC03NF0sCiAgICAgICAgem9vbTogMTMsCiAgICAgICAgbWF4Qm91bmRzOiBib3VuZHMsCiAgICAgICAgbGF5ZXJzOiBbXSwKICAgICAgICB3b3JsZENvcHlKdW1wOiBmYWxzZSwKICAgICAgICBjcnM6IEwuQ1JTLkVQU0czODU3LAogICAgICAgIHpvb21Db250cm9sOiB0cnVlLAogICAgICAgIH0pOwoKCiAgICAKICAgIHZhciB0aWxlX2xheWVyXzI0ZTBhMDI5MDFkYTRiMjNhYTY5MTRmNzA4YmRmMzVlID0gTC50aWxlTGF5ZXIoCiAgICAgICAgJ2h0dHBzOi8ve3N9LnRpbGUub3BlbnN0cmVldG1hcC5vcmcve3p9L3t4fS97eX0ucG5nJywKICAgICAgICB7CiAgICAgICAgImF0dHJpYnV0aW9uIjogbnVsbCwKICAgICAgICAiZGV0ZWN0UmV0aW5hIjogZmFsc2UsCiAgICAgICAgIm1heE5hdGl2ZVpvb20iOiAxOCwKICAgICAgICAibWF4Wm9vbSI6IDE4LAogICAgICAgICJtaW5ab29tIjogMCwKICAgICAgICAibm9XcmFwIjogZmFsc2UsCiAgICAgICAgIm9wYWNpdHkiOiAxLAogICAgICAgICJzdWJkb21haW5zIjogImFiYyIsCiAgICAgICAgInRtcyI6IGZhbHNlCn0pLmFkZFRvKG1hcF9iNzk2NDM0ZTAxN2I0NDVhODlkOTUyNDY5MDg1NzNmOSk7Cjwvc2NyaXB0Pg==\" style=\"position:absolute;width:100%;height:100%;left:0;top:0;border:none !important;\" allowfullscreen webkitallowfullscreen mozallowfullscreen></iframe></div></div>"
      ],
      "text/plain": [
       "<folium.folium.Map at 0x7f00a6bde240>"
      ]
     },
     "execution_count": 126,
     "metadata": {},
     "output_type": "execute_result"
    }
   ],
   "source": [
    "import folium\n",
    "\n",
    "lat = 40.7\n",
    "long = -74\n",
    "\n",
    "#Create a map of the area\n",
    "base_map = folium.Map([lat, long], zoom_start=13)\n",
    "base_map"
   ]
  },
  {
   "cell_type": "code",
   "execution_count": null,
   "metadata": {},
   "outputs": [],
   "source": [
    "for p in df.coordinates:\n",
    "    lat = p['latitude']\n",
    "    long = p['longitude']\n",
    "    popup_text = \"Lattitude: {}, Longitude: {}\".format(lat,long)\n",
    "    popup = folium.Popup(popup_text, parse_html=True)\n",
    "    marker = folium.Marker(location=[lat, long], popup=popup)\n",
    "    marker.add_to(base_map)\n",
    "base_map"
   ]
  },
  {
   "cell_type": "markdown",
   "metadata": {},
   "source": [
    "## Mapping\n",
    "\n",
    "Look at the initial Yelp example and try and make a map using Folium of the restaurants you retrieved. Be sure to also add popups to the markers giving some basic information such as name, rating and price."
   ]
  },
  {
   "cell_type": "code",
   "execution_count": null,
   "metadata": {},
   "outputs": [],
   "source": [
    "#Your code here"
   ]
  },
  {
   "cell_type": "markdown",
   "metadata": {},
   "source": [
    "## Summary\n",
    "\n",
    "Nice work! In this lab, you synthesized your skills for the day, making multiple API calls to Yelp in order to paginate through a results set, performing some basic exploratory analysis and then creating a nice map visual to display the results! Well done!"
   ]
  }
 ],
 "metadata": {
  "kernelspec": {
   "display_name": "Python 3",
   "language": "python",
   "name": "python3"
  },
  "language_info": {
   "codemirror_mode": {
    "name": "ipython",
    "version": 3
   },
   "file_extension": ".py",
   "mimetype": "text/x-python",
   "name": "python",
   "nbconvert_exporter": "python",
   "pygments_lexer": "ipython3",
   "version": "3.6.6"
  }
 },
 "nbformat": 4,
 "nbformat_minor": 2
}
